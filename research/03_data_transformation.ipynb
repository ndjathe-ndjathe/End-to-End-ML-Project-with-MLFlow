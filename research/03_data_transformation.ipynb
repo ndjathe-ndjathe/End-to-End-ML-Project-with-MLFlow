{
 "cells": [
  {
   "cell_type": "code",
   "execution_count": 1,
   "id": "initial_id",
   "metadata": {
    "collapsed": true,
    "ExecuteTime": {
     "end_time": "2023-07-29T14:13:26.652556800Z",
     "start_time": "2023-07-29T14:13:26.644297400Z"
    }
   },
   "outputs": [
    {
     "data": {
      "text/plain": "'C:\\\\Users\\\\Franklin NDJATHE\\\\Documents\\\\projects\\\\End-to-End-ML-Project-with-MLFlow'"
     },
     "execution_count": 1,
     "metadata": {},
     "output_type": "execute_result"
    }
   ],
   "source": [
    "import os\n",
    "%pwd\n",
    "os.chdir('../')\n",
    "%pwd"
   ]
  },
  {
   "cell_type": "code",
   "execution_count": 2,
   "outputs": [],
   "source": [
    "from dataclasses import dataclass\n",
    "from pathlib import Path\n",
    "\n",
    "@dataclass(frozen=True)\n",
    "class DataTransformationConfig:\n",
    "    root_dir: Path\n",
    "    data_path: Path"
   ],
   "metadata": {
    "collapsed": false,
    "ExecuteTime": {
     "end_time": "2023-07-29T14:15:01.504843Z",
     "start_time": "2023-07-29T14:15:01.498327200Z"
    }
   },
   "id": "76ae58002b938625"
  },
  {
   "cell_type": "code",
   "execution_count": 3,
   "outputs": [],
   "source": [
    "from mlProject.constants import *\n",
    "from mlProject.utils.common import read_yaml, create_directories"
   ],
   "metadata": {
    "collapsed": false,
    "ExecuteTime": {
     "end_time": "2023-07-29T14:15:39.026450400Z",
     "start_time": "2023-07-29T14:15:38.904957200Z"
    }
   },
   "id": "2984589bef903f1f"
  },
  {
   "cell_type": "code",
   "execution_count": 4,
   "outputs": [
    {
     "name": "stdout",
     "output_type": "stream",
     "text": [
      "[2023-07-29 16:18:01,897: INFO: common: yaml file: config\\config.yaml loaded successfully]\n",
      "[2023-07-29 16:18:01,899: INFO: common: yaml file: params.yaml loaded successfully]\n",
      "[2023-07-29 16:18:01,901: INFO: common: yaml file: schema.yaml loaded successfully]\n"
     ]
    }
   ],
   "source": [
    "from typing import ClassVar\n",
    "from box import ConfigBox\n",
    "\n",
    "@dataclass\n",
    "class ConfigurationManager:\n",
    "    config_filepath: Path = CONFIG_FILE_PATH\n",
    "    params_filepath: Path = PARAMS_FILE_PATH\n",
    "    schema_filepath: Path = SCHEMA_FILE_PATH\n",
    "    \n",
    "    config: ClassVar[ConfigBox] = read_yaml(config_filepath)\n",
    "    params: ClassVar[ConfigBox] = read_yaml(params_filepath)\n",
    "    schema: ClassVar[ConfigBox] = read_yaml(schema_filepath)\n",
    "    \n",
    "    def __post_init__(self):\n",
    "        create_directories([self.config.artifacts_root])\n",
    "        \n",
    "    def get_data_transformation_config(self) -> DataTransformationConfig:\n",
    "        config = self.config.data_transformation\n",
    "        \n",
    "        create_directories([config.root_dir])\n",
    "        \n",
    "        data_transformation_config = DataTransformationConfig(\n",
    "            root_dir=config.root_dir,\n",
    "            data_path=config.data_path\n",
    "        )\n",
    "        \n",
    "        return data_transformation_config"
   ],
   "metadata": {
    "collapsed": false,
    "ExecuteTime": {
     "end_time": "2023-07-29T14:18:01.909791100Z",
     "start_time": "2023-07-29T14:18:01.894019400Z"
    }
   },
   "id": "a10862d92606ca84"
  },
  {
   "cell_type": "code",
   "execution_count": 5,
   "outputs": [
    {
     "name": "stdout",
     "output_type": "stream",
     "text": [
      "[2023-07-29 16:18:33,093: INFO: utils: NumExpr defaulting to 8 threads.]\n"
     ]
    }
   ],
   "source": [
    "import os\n",
    "from mlProject import logger\n",
    "from sklearn.model_selection import train_test_split\n",
    "import pandas as pd"
   ],
   "metadata": {
    "collapsed": false,
    "ExecuteTime": {
     "end_time": "2023-07-29T14:18:33.364904800Z",
     "start_time": "2023-07-29T14:18:32.502051500Z"
    }
   },
   "id": "300c36a9ddd7e1d1"
  },
  {
   "cell_type": "code",
   "execution_count": 6,
   "outputs": [],
   "source": [
    "@dataclass\n",
    "class DataTransformation:\n",
    "    config: DataTransformationConfig\n",
    "    \n",
    "    def train_test_spliting(self):\n",
    "        data = pd.read_csv(self.config.data_path)\n",
    "        \n",
    "        # Split the data into training and test sets. (0.75, 0.25) split\n",
    "        train, test = train_test_split(data)\n",
    "        \n",
    "        train.to_csv(os.path.join(self.config.root_dir, \"train.csv\"), index=False)\n",
    "        test.to_csv(os.path.join(self.config.root_dir, \"test.csv\"), index=False)\n",
    "        \n",
    "        logger.info(\"Splited data into training and test sets\")\n",
    "        logger.info(train.shape)\n",
    "        logger.info(test.shape)\n",
    "        \n",
    "        print(train.shape)\n",
    "        print(test.shape)"
   ],
   "metadata": {
    "collapsed": false,
    "ExecuteTime": {
     "end_time": "2023-07-29T14:28:11.610120100Z",
     "start_time": "2023-07-29T14:28:11.593625500Z"
    }
   },
   "id": "51c0971477dd57fd"
  },
  {
   "cell_type": "code",
   "execution_count": 7,
   "outputs": [
    {
     "name": "stdout",
     "output_type": "stream",
     "text": [
      "[2023-07-29 16:29:18,344: INFO: common: created directory at: artifacts]\n",
      "[2023-07-29 16:29:18,346: INFO: common: created directory at: artifacts/data_transformation]\n",
      "[2023-07-29 16:29:18,366: INFO: 119938449: Splited data into training and test sets]\n",
      "[2023-07-29 16:29:18,367: INFO: 119938449: (1199, 12)]\n",
      "[2023-07-29 16:29:18,368: INFO: 119938449: (400, 12)]\n",
      "(1199, 12)\n",
      "(400, 12)\n"
     ]
    }
   ],
   "source": [
    "try:\n",
    "    config = ConfigurationManager()\n",
    "    data_transformation_config = config.get_data_transformation_config()\n",
    "    data_transformation = DataTransformation(config=data_transformation_config)\n",
    "    data_transformation.train_test_spliting()\n",
    "except Exception as e:\n",
    "    raise e"
   ],
   "metadata": {
    "collapsed": false,
    "ExecuteTime": {
     "end_time": "2023-07-29T14:29:18.409739700Z",
     "start_time": "2023-07-29T14:29:18.345315500Z"
    }
   },
   "id": "cd5d6e4cb150358e"
  },
  {
   "cell_type": "code",
   "execution_count": null,
   "outputs": [],
   "source": [],
   "metadata": {
    "collapsed": false
   },
   "id": "452dfee643a92b4c"
  }
 ],
 "metadata": {
  "kernelspec": {
   "display_name": "Python 3",
   "language": "python",
   "name": "python3"
  },
  "language_info": {
   "codemirror_mode": {
    "name": "ipython",
    "version": 2
   },
   "file_extension": ".py",
   "mimetype": "text/x-python",
   "name": "python",
   "nbconvert_exporter": "python",
   "pygments_lexer": "ipython2",
   "version": "2.7.6"
  }
 },
 "nbformat": 4,
 "nbformat_minor": 5
}
