{
 "cells": [
  {
   "cell_type": "code",
   "execution_count": 1,
   "id": "initial_id",
   "metadata": {
    "collapsed": true,
    "ExecuteTime": {
     "end_time": "2023-07-29T17:26:51.184273600Z",
     "start_time": "2023-07-29T17:26:51.175014600Z"
    }
   },
   "outputs": [
    {
     "data": {
      "text/plain": "'C:\\\\Users\\\\Franklin NDJATHE\\\\Documents\\\\projects\\\\End-to-End-ML-Project-with-MLFlow'"
     },
     "execution_count": 1,
     "metadata": {},
     "output_type": "execute_result"
    }
   ],
   "source": [
    "import os\n",
    "%pwd\n",
    "os.chdir('../')\n",
    "%pwd"
   ]
  },
  {
   "cell_type": "code",
   "execution_count": 4,
   "outputs": [],
   "source": [
    "from dataclasses import  dataclass\n",
    "from pathlib import Path\n",
    "\n",
    "@dataclass(frozen=True)\n",
    "class ModelTrainerConfig:\n",
    "    root_dir: Path\n",
    "    train_data_path: Path\n",
    "    test_data_path: Path\n",
    "    model_name: str\n",
    "    alpha: float\n",
    "    l1_ratio: float\n",
    "    target_column: str"
   ],
   "metadata": {
    "collapsed": false,
    "ExecuteTime": {
     "end_time": "2023-07-29T17:35:52.058850300Z",
     "start_time": "2023-07-29T17:35:52.049496900Z"
    }
   },
   "id": "79c51477aa9f7895"
  },
  {
   "cell_type": "code",
   "execution_count": 5,
   "outputs": [],
   "source": [
    "from mlProject.constants import *\n",
    "from mlProject.utils.common import read_yaml, create_directories"
   ],
   "metadata": {
    "collapsed": false,
    "ExecuteTime": {
     "end_time": "2023-07-29T17:35:55.929168800Z",
     "start_time": "2023-07-29T17:35:55.921679700Z"
    }
   },
   "id": "49cd55e9fbcf49c0"
  },
  {
   "cell_type": "code",
   "execution_count": 6,
   "outputs": [
    {
     "name": "stdout",
     "output_type": "stream",
     "text": [
      "[2023-07-29 20:19:43,571: INFO: common: yaml file: config\\config.yaml loaded successfully]\n",
      "[2023-07-29 20:19:43,573: INFO: common: yaml file: params.yaml loaded successfully]\n",
      "[2023-07-29 20:19:43,576: INFO: common: yaml file: schema.yaml loaded successfully]\n"
     ]
    }
   ],
   "source": [
    "from typing import ClassVar\n",
    "from box import ConfigBox\n",
    "\n",
    "@dataclass\n",
    "class ConfigurationManager:\n",
    "    config_filepath: Path = CONFIG_FILE_PATH\n",
    "    params_filepath: Path = PARAMS_FILE_PATH\n",
    "    schema_filepath: Path = SCHEMA_FILE_PATH\n",
    "    \n",
    "    config: ClassVar[ConfigBox] = read_yaml(config_filepath)\n",
    "    params: ClassVar[ConfigBox] = read_yaml(params_filepath)\n",
    "    schema: ClassVar[ConfigBox] = read_yaml(schema_filepath)\n",
    "    \n",
    "    def __post_init__(self):\n",
    "        create_directories([self.config.artifacts_root])\n",
    "        \n",
    "    def get_model_trainer_config(self) -> ModelTrainerConfig:\n",
    "        config = self.config.model_trainer\n",
    "        params = self.params.ElasticNet\n",
    "        schema = self.schema.TARGET_COLUMN\n",
    "        \n",
    "        create_directories([config.root_dir])\n",
    "        \n",
    "        model_trainer_config = ModelTrainerConfig(\n",
    "            root_dir=config.root_dir,\n",
    "            train_data_path=config.train_data_path,\n",
    "            test_data_path=config.test_data_path,\n",
    "            model_name=config.model_name,\n",
    "            alpha=params.alpha,\n",
    "            l1_ratio=params.l1_ratio,\n",
    "            target_column=schema.name\n",
    "        )\n",
    "        \n",
    "        return model_trainer_config"
   ],
   "metadata": {
    "collapsed": false,
    "ExecuteTime": {
     "end_time": "2023-07-29T18:19:43.584237800Z",
     "start_time": "2023-07-29T18:19:43.568952800Z"
    }
   },
   "id": "2463ceb521c18d62"
  },
  {
   "cell_type": "code",
   "execution_count": 7,
   "outputs": [
    {
     "name": "stdout",
     "output_type": "stream",
     "text": [
      "[2023-07-29 20:20:29,747: INFO: utils: NumExpr defaulting to 8 threads.]\n"
     ]
    }
   ],
   "source": [
    "import pandas as pd\n",
    "import os\n",
    "from mlProject import logger\n",
    "from sklearn.linear_model import ElasticNet\n",
    "import joblib"
   ],
   "metadata": {
    "collapsed": false,
    "ExecuteTime": {
     "end_time": "2023-07-29T18:20:30.724300200Z",
     "start_time": "2023-07-29T18:20:29.565583100Z"
    }
   },
   "id": "65ee705ca4a05eb2"
  },
  {
   "cell_type": "code",
   "execution_count": 8,
   "outputs": [],
   "source": [
    "@dataclass\n",
    "class ModelTrainer:\n",
    "    config: ModelTrainerConfig\n",
    "    \n",
    "    def train(self):\n",
    "        train_data = pd.read_csv(self.config.train_data_path)\n",
    "        test_data = pd.read_csv(self.config.test_data_path)\n",
    "        \n",
    "        train_x = train_data.drop([self.config.target_column], axis=1)\n",
    "        test_x = test_data.drop([self.config.target_column], axis=1)\n",
    "        train_y = train_data[[self.config.target_column]]\n",
    "        test_y = test_data[[self.config.target_column]]\n",
    "        \n",
    "        lr = ElasticNet(alpha=self.config.alpha, l1_ratio=self.config.l1_ratio, random_state=42)\n",
    "        lr.fit(train_x, train_y)\n",
    "        \n",
    "        joblib.dump(lr, os.path.join(self.config.root_dir, self.config.model_name))"
   ],
   "metadata": {
    "collapsed": false,
    "ExecuteTime": {
     "end_time": "2023-07-29T18:25:36.919499300Z",
     "start_time": "2023-07-29T18:25:36.906769700Z"
    }
   },
   "id": "171161e60f8be81d"
  },
  {
   "cell_type": "code",
   "execution_count": 9,
   "outputs": [
    {
     "name": "stdout",
     "output_type": "stream",
     "text": [
      "[2023-07-29 20:27:52,512: INFO: common: created directory at: artifacts]\n",
      "[2023-07-29 20:27:52,513: INFO: common: created directory at: artifacts/model_trainer]\n"
     ]
    }
   ],
   "source": [
    "try:\n",
    "    config = ConfigurationManager()\n",
    "    model_trainer_config = config.get_model_trainer_config()\n",
    "    model_trainer = ModelTrainer(config=model_trainer_config)\n",
    "    model_trainer.train()\n",
    "except Exception as e:\n",
    "    raise e"
   ],
   "metadata": {
    "collapsed": false,
    "ExecuteTime": {
     "end_time": "2023-07-29T18:27:52.573859500Z",
     "start_time": "2023-07-29T18:27:52.512931100Z"
    }
   },
   "id": "c04aaa523c8e176f"
  },
  {
   "cell_type": "code",
   "execution_count": null,
   "outputs": [],
   "source": [],
   "metadata": {
    "collapsed": false
   },
   "id": "9bd4ce91b8218ed1"
  }
 ],
 "metadata": {
  "kernelspec": {
   "display_name": "Python 3",
   "language": "python",
   "name": "python3"
  },
  "language_info": {
   "codemirror_mode": {
    "name": "ipython",
    "version": 2
   },
   "file_extension": ".py",
   "mimetype": "text/x-python",
   "name": "python",
   "nbconvert_exporter": "python",
   "pygments_lexer": "ipython2",
   "version": "2.7.6"
  }
 },
 "nbformat": 4,
 "nbformat_minor": 5
}
